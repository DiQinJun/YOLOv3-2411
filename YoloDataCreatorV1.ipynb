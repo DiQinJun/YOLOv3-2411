{
 "cells": [
  {
   "cell_type": "code",
   "execution_count": 2,
   "metadata": {},
   "outputs": [],
   "source": [
    "import glob\n",
    "import os\n",
    "import random\n",
    "from shutil import copyfile"
   ]
  },
  {
   "cell_type": "code",
   "execution_count": 3,
   "metadata": {},
   "outputs": [],
   "source": [
    "inputPath = r'd:\\FloriTama'\n",
    "valSplit = 20\n",
    "imageExtension = 'jpg'\n",
    "outputPath = r'd:\\Data\\FloriTama'"
   ]
  },
  {
   "cell_type": "code",
   "execution_count": 6,
   "metadata": {},
   "outputs": [
    {
     "name": "stdout",
     "output_type": "stream",
     "text": [
      "Done.\n"
     ]
    }
   ],
   "source": [
    "def markupPath(imagePath):\n",
    "    filename, file_extension = os.path.splitext(imagePath)\n",
    "    return filename + '.txt'\n",
    "\n",
    "def deleteFolderContents(path):\n",
    "    files = glob.glob(path + '\\*')\n",
    "    for f in files:\n",
    "        os.remove(f)\n",
    "        \n",
    "def writeFile(path, contents):\n",
    "    with open(path, 'w') as text_file:\n",
    "        text_file.write(contents)    \n",
    "\n",
    "def createYoloDataFolders(inputPath, outputPath, valSplit, imageExtension):\n",
    "    # Only files which have markup\n",
    "    imageFilesWithExt = []\n",
    "    allFiles = glob.glob(inputPath + '\\\\*.' + imageExtension)\n",
    "    for allFile in allFiles:\n",
    "        if os.path.isfile(markupPath(allFile)):\n",
    "            imageFilesWithExt.append(allFile)\n",
    "    lng = len(imageFilesWithExt)\n",
    "    \n",
    "    # Shuffle and create range\n",
    "    images = random.sample(imageFilesWithExt, lng)\n",
    "    trainSplit = 100 - valSplit\n",
    "    splitPoint = int((float(lng) * float(trainSplit)) / 100.0)    \n",
    "            \n",
    "    # Delete target directory contents and copy files over\n",
    "    outImages = outputPath + '\\images'\n",
    "    outLabels = outputPath + '\\labels'\n",
    "    deleteFolderContents(outImages)\n",
    "    deleteFolderContents(outLabels)\n",
    "    \n",
    "    txtImagesTrain = ''\n",
    "    txtImagesTest = ''\n",
    "    \n",
    "    for i in range(lng):\n",
    "        srcImage = images[i]\n",
    "        srcLabel = markupPath(images[i])\n",
    "        dstImage = outImages + r'\\data_' + str(i).zfill(8) + '.' + imageExtension\n",
    "        dstLabel = outLabels + r'\\data_' + str(i).zfill(8) + '.txt'\n",
    "        copyfile(srcImage, dstImage)\n",
    "        copyfile(srcLabel, dstLabel)\n",
    "        if i < splitPoint:\n",
    "            txtImagesTrain = txtImagesTrain + dstImage + '\\n'\n",
    "        else:\n",
    "            txtImagesTest = txtImagesTest + dstImage + '\\n'\n",
    "            \n",
    "    # Write train/test files\n",
    "    writeFile(outputPath + r'\\train.txt', txtImagesTrain)\n",
    "    writeFile(outputPath + r'\\val.txt', txtImagesTest)\n",
    "    \n",
    "    # Done\n",
    "    print('Done.')\n",
    "    \n",
    "createYoloDataFolders(inputPath, outputPath, valSplit, imageExtension)"
   ]
  },
  {
   "cell_type": "code",
   "execution_count": null,
   "metadata": {},
   "outputs": [],
   "source": []
  }
 ],
 "metadata": {
  "kernelspec": {
   "display_name": "Python [conda env:seg]",
   "language": "python",
   "name": "conda-env-seg-py"
  },
  "language_info": {
   "codemirror_mode": {
    "name": "ipython",
    "version": 3
   },
   "file_extension": ".py",
   "mimetype": "text/x-python",
   "name": "python",
   "nbconvert_exporter": "python",
   "pygments_lexer": "ipython3",
   "version": "3.6.8"
  }
 },
 "nbformat": 4,
 "nbformat_minor": 2
}
