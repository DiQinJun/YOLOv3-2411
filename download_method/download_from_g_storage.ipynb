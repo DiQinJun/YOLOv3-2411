{
 "cells": [
  {
   "cell_type": "code",
   "execution_count": 16,
   "metadata": {},
   "outputs": [],
   "source": [
    "# do\n",
    "# pip install google-cloud-storage\n",
    "# export GOOGLE_APPLICATION_CREDENTIALS=\"/path/to/file.json\"\n",
    "# path is the json file here: https://console.cloud.google.com/apis/credentials/serviceaccountkey?hl=zh-cn&_ga=2.119253385.1609939662.1581712494-1022690170.1581712494&project=round-cable-268220&folder&organizationId"
   ]
  },
  {
   "cell_type": "code",
   "execution_count": 17,
   "metadata": {
    "scrolled": true
   },
   "outputs": [],
   "source": [
    "import os\n",
    "def download_from_g_storage_working(buck_name, local_addr):\n",
    "    os.system('gsutil cp -r '+ buck_name + ' ' + local_addr)"
   ]
  },
  {
   "cell_type": "code",
   "execution_count": 18,
   "metadata": {},
   "outputs": [],
   "source": [
    "download_from_g_storage_working('gs://example_download', \n",
    "                                '/Users/xuanyu/Desktop/MIDS_courses/capstone/test_download')"
   ]
  },
  {
   "cell_type": "code",
   "execution_count": 14,
   "metadata": {},
   "outputs": [],
   "source": [
    "# below not working at all"
   ]
  },
  {
   "cell_type": "code",
   "execution_count": null,
   "metadata": {},
   "outputs": [],
   "source": [
    "from os import environ\n",
    "from google.cloud import storage\n",
    "from config import bucketName, localFolder, bucketFolder"
   ]
  },
  {
   "cell_type": "code",
   "execution_count": null,
   "metadata": {},
   "outputs": [],
   "source": [
    "\n",
    "def download_helper(bucketName, bucketFolder, localFolder):\n",
    "    \"\"\"Download all file from GCP bucket.\"\"\"\n",
    "    fileList = list_files(bucketName)\n",
    "    for file in fileList:\n",
    "        blob = bucket.blob(file)\n",
    "        fileName = blob.name.split('/')[-1]\n",
    "        blob.download_to_filename(localFolder + fileName)\n",
    "    return True"
   ]
  },
  {
   "cell_type": "code",
   "execution_count": null,
   "metadata": {},
   "outputs": [],
   "source": [
    "def download_from_g_storage(bName, bFolder, lFolder):\n",
    "    # Google Cloud Storage\n",
    "    bucketName = environ.get(bName)\n",
    "    bucketFolder = environ.get(bFolder)\n",
    "\n",
    "    # Data\n",
    "    localFolder = environ.get(lFolder)\n",
    "    \n",
    "    storage_client = storage.Client()\n",
    "    bucket = storage_client.get_bucket(bucketName)\n",
    "    if (download_helper(bucketName, bucketFolder, localFolder) != True):\n",
    "        return False\n",
    "    return True"
   ]
  },
  {
   "cell_type": "code",
   "execution_count": null,
   "metadata": {},
   "outputs": [],
   "source": [
    "download_from_g_storage(\"proj-test\", 'example_download_test', '/Users/xuanyu/Desktop/MIDS_courses/capstone/test_download')"
   ]
  }
 ],
 "metadata": {
  "kernelspec": {
   "display_name": "Python 3",
   "language": "python",
   "name": "python3"
  },
  "language_info": {
   "codemirror_mode": {
    "name": "ipython",
    "version": 3
   },
   "file_extension": ".py",
   "mimetype": "text/x-python",
   "name": "python",
   "nbconvert_exporter": "python",
   "pygments_lexer": "ipython3",
   "version": "3.6.9"
  }
 },
 "nbformat": 4,
 "nbformat_minor": 4
}
