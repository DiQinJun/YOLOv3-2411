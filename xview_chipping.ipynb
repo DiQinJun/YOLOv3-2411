{
 "cells": [
  {
   "cell_type": "raw",
   "metadata": {},
   "source": [
    "parser.add_argument('--data', type=str, default='/data/zjc4/chipped/xview.txt', help='*.data path')\n",
    "\n",
    "Small Aircraft (Fixed-wing Aircraft, Small Aircraft)\n",
    "11\n",
    "12\n",
    "\n",
    "Large Aircraft (Cargo Plane)\n",
    "13\n",
    "\n",
    "Small Vehicle (Passenger Vehicle, Small Car, Pickup Truck, Utility Truck)\n",
    "17\n",
    "18\n",
    "20\n",
    "21\n",
    "\n",
    "Bus/Truck (Bus, Truck, Cargo Truck, Truck w/Box, Truck w/Flatbed, Truck w/Liquid, Dump Truck, Haul Truck, Cement Mixer, Truck Tractor)\n",
    "19\n",
    "23\n",
    "24\n",
    "25\n",
    "28\n",
    "29\n",
    "60\n",
    "61\n",
    "65\n",
    "26\n",
    "\n",
    "Boat (Motorboat, Sailboat, Yacht, Maritime Vessel, Tugboat, Barge, Fishing Vessel, Ferry).\n",
    "41\n",
    "42\n",
    "50\n",
    "40\n",
    "44\n",
    "45\n",
    "47\n",
    "49"
   ]
  },
  {
   "cell_type": "code",
   "execution_count": 19,
   "metadata": {},
   "outputs": [],
   "source": [
    "import aug_util as aug\n",
    "import wv_util as wv\n",
    "import matplotlib.pyplot as plt\n",
    "from PIL import Image\n",
    "import numpy as np\n",
    "import csv\n",
    "import tqdm\n",
    "%matplotlib inline\n",
    "\n",
    "fdir = '/data/zjc4/'\n",
    "#Load an image\n",
    "chip_name = fdir+'train_images/104.tif'\n",
    "cdir = \"/data/zjc4/chipped/train/\"\n",
    "arr = wv.get_image(chip_name)"
   ]
  },
  {
   "cell_type": "code",
   "execution_count": 20,
   "metadata": {},
   "outputs": [
    {
     "name": "stderr",
     "output_type": "stream",
     "text": [
      "100%|██████████| 601937/601937 [00:04<00:00, 143758.84it/s]\n"
     ]
    }
   ],
   "source": [
    "#Loading our labels\n",
    "coords1, chips1, classes1 = wv.get_labels(fdir+'xView_train.geojson')"
   ]
  },
  {
   "cell_type": "code",
   "execution_count": 21,
   "metadata": {},
   "outputs": [],
   "source": [
    "import glob\n",
    "all_images = glob.glob(fdir+'train_images/*.tif')"
   ]
  },
  {
   "cell_type": "code",
   "execution_count": 31,
   "metadata": {},
   "outputs": [
    {
     "name": "stderr",
     "output_type": "stream",
     "text": [
      "  1%|          | 1/170 [00:00<00:27,  6.16it/s]"
     ]
    },
    {
     "name": "stdout",
     "output_type": "stream",
     "text": [
      "846\n"
     ]
    },
    {
     "name": "stderr",
     "output_type": "stream",
     "text": [
      "100%|██████████| 170/170 [00:30<00:00,  5.51it/s]\n"
     ]
    }
   ],
   "source": [
    "import pickle\n",
    "with open('test_tifs.pkl','rb') as f:\n",
    "    test_tifs = pickle.load(f)\n",
    "\n",
    "print(len(all_images))\n",
    "\n",
    "#Load the class number -> class string label map\n",
    "labels = {}\n",
    "with open('xview_class_labels.txt') as f:\n",
    "    for row in csv.reader(f):\n",
    "        labels[int(row[0].split(\":\")[0])] = row[0].split(\":\")[1]\n",
    "        pass\n",
    "    pass\n",
    "\n",
    "all_images\n",
    "\n",
    "i = 0\n",
    "for chip_name in tqdm.tqdm(test_tifs):\n",
    "    chip_name = fdir+chip_name\n",
    "    chip_name = (chip_name.split(\"/\")[-1])\n",
    "    img_name = chip_name.split(\".\")[0]\n",
    "    \n",
    "    coords = coords1[chips1==chip_name]\n",
    "    classes = classes1[chips1==chip_name].astype(np.int64)\n",
    "    \n",
    "    c_img, c_box, c_cls = wv.chip_image(img = arr, coords= coords, \n",
    "                                        classes=classes, shape=(600,600))\n",
    "    # xmin,ymin,xmax,ymax = c_box\n",
    "    #   0    1   2    3\n",
    "    for c_idx in (range(c_img.shape[0])):\n",
    "        # Save the chipped image\n",
    "        c_name = \"{:06}_{:02}\".format(int(img_name), c_idx)\n",
    "        # Save the chipped label\n",
    "        widths = c_box[c_idx][:,2]-c_box[c_idx][:,0]\n",
    "        x = c_box[c_idx][:,0]+(widths/2)\n",
    "        \n",
    "        heights = c_box[c_idx][:,3]-c_box[c_idx][:,1]\n",
    "        y = c_box[c_idx][:,1]+(heights/2)\n",
    "        \n",
    "        szx = c_img[c_idx].shape[0]\n",
    "        szy = c_img[c_idx].shape[1]\n",
    "        nwidths,nheights = widths/szx, heights/szy\n",
    "        nx,ny = x/szx, y/szy\n",
    "\n",
    "        nheights = np.round(nheights,6)\n",
    "        nwidths = np.round(nwidths,6)\n",
    "        nx,ny = np.round(nx,6),np.round(ny,6)\n",
    "        \n",
    "        h_cls = c_cls[c_idx]\n",
    "        \n",
    "        classes = [[11,12],[13],[17,18,20,21],\\\n",
    "                   [19,23,24,25,28,29,60,61,65,26],[41,42,50,40,44,45,47,49]]\n",
    "        matching_cls_idxs = np.copy(np.isin(h_cls,classes[0])) # init class idx\n",
    "        for idx,c in enumerate(classes):\n",
    "            idx_filter = np.isin(h_cls,c)\n",
    "            h_cls[idx_filter] = idx\n",
    "            matching_cls_idxs = np.copy(np.logical_or(matching_cls_idxs,idx_filter))\n",
    "\n",
    "        data_labels = np.vstack((h_cls,nx,ny,nwidths,nheights)).T\n",
    "        # Select only valid labels\n",
    "        y_valid = np.logical_and(nx-nwidths > 0.1,nx+nwidths < 0.9)\n",
    "        x_valid = np.logical_and(ny-nheights > 0.1,ny+nheights < 0.9)\n",
    "        \n",
    "        valid = np.logical_and(x_valid,np.logical_and(y_valid,matching_cls_idxs))\n",
    "        \n",
    "        data_labels = data_labels[valid,:]\n",
    "        \n",
    "        # Break if there are no valid labels(o.w. empty label == error)\n",
    "        if (np.count_nonzero(valid==True) < 1 ): break\n",
    "        ff_l = \"{}labels/{}.txt\".format(cdir,c_name)\n",
    "        np.savetxt(ff_l, data_labels, fmt='%i %1.6f %1.6f %1.6f %1.6f')\n",
    "        \n",
    "        img = Image.fromarray(c_img[c_idx])\n",
    "        ff_i = \"{}images/{}.jpg\".format(cdir,c_name)\n",
    "        img.save(ff_i)"
   ]
  },
  {
   "cell_type": "code",
   "execution_count": 32,
   "metadata": {},
   "outputs": [
    {
     "data": {
      "text/plain": [
       "1522"
      ]
     },
     "execution_count": 32,
     "metadata": {},
     "output_type": "execute_result"
    }
   ],
   "source": [
    "len(lines)"
   ]
  },
  {
   "cell_type": "code",
   "execution_count": 33,
   "metadata": {},
   "outputs": [],
   "source": [
    "lines = sorted(glob.glob(cdir+\"images/*\"))\n",
    "with open(fdir+\"chipped/xview_img_valid.txt\", mode='w', encoding='utf-8') as myfile:\n",
    "    myfile.write('\\n'.join(lines))"
   ]
  },
  {
   "cell_type": "code",
   "execution_count": 34,
   "metadata": {},
   "outputs": [
    {
     "data": {
      "text/plain": [
       "['/data/zjc4/chipped/train/images/000080_00.jpg',\n",
       " '/data/zjc4/chipped/train/images/000091_00.jpg',\n",
       " '/data/zjc4/chipped/train/images/000091_01.jpg',\n",
       " '/data/zjc4/chipped/train/images/000091_02.jpg',\n",
       " '/data/zjc4/chipped/train/images/000091_03.jpg',\n",
       " '/data/zjc4/chipped/train/images/000091_04.jpg',\n",
       " '/data/zjc4/chipped/train/images/000091_05.jpg',\n",
       " '/data/zjc4/chipped/train/images/000091_06.jpg',\n",
       " '/data/zjc4/chipped/train/images/000091_07.jpg',\n",
       " '/data/zjc4/chipped/train/images/000091_08.jpg',\n",
       " '/data/zjc4/chipped/train/images/000091_09.jpg',\n",
       " '/data/zjc4/chipped/train/images/000091_10.jpg',\n",
       " '/data/zjc4/chipped/train/images/000091_11.jpg',\n",
       " '/data/zjc4/chipped/train/images/000091_12.jpg',\n",
       " '/data/zjc4/chipped/train/images/000091_13.jpg',\n",
       " '/data/zjc4/chipped/train/images/000091_14.jpg',\n",
       " '/data/zjc4/chipped/train/images/000091_15.jpg',\n",
       " '/data/zjc4/chipped/train/images/000091_16.jpg',\n",
       " '/data/zjc4/chipped/train/images/000091_17.jpg',\n",
       " '/data/zjc4/chipped/train/images/000094_00.jpg',\n",
       " '/data/zjc4/chipped/train/images/000102_00.jpg',\n",
       " '/data/zjc4/chipped/train/images/000102_01.jpg',\n",
       " '/data/zjc4/chipped/train/images/000102_02.jpg',\n",
       " '/data/zjc4/chipped/train/images/000102_03.jpg',\n",
       " '/data/zjc4/chipped/train/images/000102_04.jpg',\n",
       " '/data/zjc4/chipped/train/images/000102_05.jpg',\n",
       " '/data/zjc4/chipped/train/images/000102_06.jpg',\n",
       " '/data/zjc4/chipped/train/images/000102_07.jpg',\n",
       " '/data/zjc4/chipped/train/images/000102_08.jpg',\n",
       " '/data/zjc4/chipped/train/images/000102_09.jpg',\n",
       " '/data/zjc4/chipped/train/images/000102_10.jpg',\n",
       " '/data/zjc4/chipped/train/images/000102_11.jpg',\n",
       " '/data/zjc4/chipped/train/images/000102_12.jpg',\n",
       " '/data/zjc4/chipped/train/images/000102_13.jpg',\n",
       " '/data/zjc4/chipped/train/images/000102_14.jpg',\n",
       " '/data/zjc4/chipped/train/images/000102_15.jpg',\n",
       " '/data/zjc4/chipped/train/images/000102_16.jpg',\n",
       " '/data/zjc4/chipped/train/images/000102_17.jpg',\n",
       " '/data/zjc4/chipped/train/images/000102_18.jpg',\n",
       " '/data/zjc4/chipped/train/images/000102_19.jpg',\n",
       " '/data/zjc4/chipped/train/images/000118_00.jpg',\n",
       " '/data/zjc4/chipped/train/images/000118_01.jpg',\n",
       " '/data/zjc4/chipped/train/images/000118_02.jpg',\n",
       " '/data/zjc4/chipped/train/images/000118_03.jpg',\n",
       " '/data/zjc4/chipped/train/images/000131_00.jpg',\n",
       " '/data/zjc4/chipped/train/images/000136_00.jpg',\n",
       " '/data/zjc4/chipped/train/images/000136_01.jpg',\n",
       " '/data/zjc4/chipped/train/images/000136_02.jpg',\n",
       " '/data/zjc4/chipped/train/images/000136_03.jpg',\n",
       " '/data/zjc4/chipped/train/images/000136_04.jpg',\n",
       " '/data/zjc4/chipped/train/images/000136_05.jpg',\n",
       " '/data/zjc4/chipped/train/images/000136_06.jpg',\n",
       " '/data/zjc4/chipped/train/images/000136_07.jpg',\n",
       " '/data/zjc4/chipped/train/images/000136_08.jpg',\n",
       " '/data/zjc4/chipped/train/images/000136_09.jpg',\n",
       " '/data/zjc4/chipped/train/images/000136_10.jpg',\n",
       " '/data/zjc4/chipped/train/images/000136_11.jpg',\n",
       " '/data/zjc4/chipped/train/images/000302_00.jpg',\n",
       " '/data/zjc4/chipped/train/images/000302_01.jpg',\n",
       " '/data/zjc4/chipped/train/images/000322_00.jpg',\n",
       " '/data/zjc4/chipped/train/images/000333_00.jpg',\n",
       " '/data/zjc4/chipped/train/images/000333_01.jpg',\n",
       " '/data/zjc4/chipped/train/images/000531_00.jpg',\n",
       " '/data/zjc4/chipped/train/images/000531_01.jpg',\n",
       " '/data/zjc4/chipped/train/images/000531_02.jpg',\n",
       " '/data/zjc4/chipped/train/images/000531_03.jpg',\n",
       " '/data/zjc4/chipped/train/images/000531_04.jpg',\n",
       " '/data/zjc4/chipped/train/images/000531_05.jpg',\n",
       " '/data/zjc4/chipped/train/images/000531_06.jpg',\n",
       " '/data/zjc4/chipped/train/images/000531_07.jpg',\n",
       " '/data/zjc4/chipped/train/images/000531_08.jpg',\n",
       " '/data/zjc4/chipped/train/images/000531_09.jpg',\n",
       " '/data/zjc4/chipped/train/images/000531_10.jpg',\n",
       " '/data/zjc4/chipped/train/images/000531_11.jpg',\n",
       " '/data/zjc4/chipped/train/images/000531_12.jpg',\n",
       " '/data/zjc4/chipped/train/images/000531_13.jpg',\n",
       " '/data/zjc4/chipped/train/images/000531_14.jpg',\n",
       " '/data/zjc4/chipped/train/images/000647_00.jpg',\n",
       " '/data/zjc4/chipped/train/images/000774_00.jpg',\n",
       " '/data/zjc4/chipped/train/images/000774_01.jpg',\n",
       " '/data/zjc4/chipped/train/images/000774_02.jpg',\n",
       " '/data/zjc4/chipped/train/images/000774_03.jpg',\n",
       " '/data/zjc4/chipped/train/images/000774_04.jpg',\n",
       " '/data/zjc4/chipped/train/images/000774_05.jpg',\n",
       " '/data/zjc4/chipped/train/images/000794_00.jpg',\n",
       " '/data/zjc4/chipped/train/images/000860_00.jpg',\n",
       " '/data/zjc4/chipped/train/images/000860_01.jpg',\n",
       " '/data/zjc4/chipped/train/images/000860_02.jpg',\n",
       " '/data/zjc4/chipped/train/images/000860_03.jpg',\n",
       " '/data/zjc4/chipped/train/images/001037_00.jpg',\n",
       " '/data/zjc4/chipped/train/images/001037_01.jpg',\n",
       " '/data/zjc4/chipped/train/images/001037_02.jpg',\n",
       " '/data/zjc4/chipped/train/images/001044_00.jpg',\n",
       " '/data/zjc4/chipped/train/images/001044_01.jpg',\n",
       " '/data/zjc4/chipped/train/images/001050_00.jpg',\n",
       " '/data/zjc4/chipped/train/images/001050_01.jpg',\n",
       " '/data/zjc4/chipped/train/images/001050_02.jpg',\n",
       " '/data/zjc4/chipped/train/images/001050_03.jpg',\n",
       " '/data/zjc4/chipped/train/images/001050_04.jpg',\n",
       " '/data/zjc4/chipped/train/images/001050_05.jpg']"
      ]
     },
     "execution_count": 34,
     "metadata": {},
     "output_type": "execute_result"
    }
   ],
   "source": [
    "lines[:100]"
   ]
  },
  {
   "cell_type": "raw",
   "metadata": {},
   "source": [
    "python3 simrdwn.py --train_data_dir /data/zjc4/chipped_images/train/labels --train_data_dir "
   ]
  },
  {
   "cell_type": "code",
   "execution_count": null,
   "metadata": {},
   "outputs": [],
   "source": []
  }
 ],
 "metadata": {
  "kernelspec": {
   "display_name": "Python 3",
   "language": "python",
   "name": "python3"
  },
  "language_info": {
   "codemirror_mode": {
    "name": "ipython",
    "version": 3
   },
   "file_extension": ".py",
   "mimetype": "text/x-python",
   "name": "python",
   "nbconvert_exporter": "python",
   "pygments_lexer": "ipython3",
   "version": "3.6.9"
  }
 },
 "nbformat": 4,
 "nbformat_minor": 4
}
