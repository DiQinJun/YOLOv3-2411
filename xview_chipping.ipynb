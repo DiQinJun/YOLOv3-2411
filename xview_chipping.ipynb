{
 "cells": [
  {
   "cell_type": "code",
   "execution_count": 1,
   "metadata": {},
   "outputs": [],
   "source": [
    "import aug_util as aug\n",
    "import wv_util as wv\n",
    "import matplotlib.pyplot as plt\n",
    "from PIL import Image\n",
    "import numpy as np\n",
    "import csv\n",
    "import tqdm\n",
    "%matplotlib inline"
   ]
  },
  {
   "cell_type": "code",
   "execution_count": 6,
   "metadata": {},
   "outputs": [],
   "source": [
    "lines = glob.glob(\"data_xview/train/images/*\")\n",
    "with open(\"data_xview/xview_img.txt\", mode='w', encoding='utf-8') as myfile:\n",
    "    myfile.write('\\n'.join(lines))"
   ]
  },
  {
   "cell_type": "raw",
   "metadata": {},
   "source": [
    "fdir = '/home/zisheng/Capstone/Data/xView/'\n",
    "cdir = '/home/zisheng/Capstone/Data/chipped/train/'\n",
    "#Load an image\n",
    "chip_name = fdir+'train_images/104.tif'\n",
    "arr = wv.get_image(chip_name)"
   ]
  },
  {
   "cell_type": "raw",
   "metadata": {},
   "source": [
    "#Loading our labels\n",
    "coords1, chips1, classes1 = wv.get_labels(fdir+'xView_train.geojson')"
   ]
  },
  {
   "cell_type": "raw",
   "metadata": {},
   "source": [
    "#We only want to coordinates and classes that are within our chip\n",
    "chip_name='104.tif'\n",
    "\n",
    "import glob\n",
    "all_images = glob.glob(fdir+'train_images/*.tif')"
   ]
  },
  {
   "cell_type": "raw",
   "metadata": {},
   "source": [
    "#Load the class number -> class string label map\n",
    "labels = {}\n",
    "with open('xview_class_labels.txt') as f:\n",
    "    for row in csv.reader(f):\n",
    "        labels[int(row[0].split(\":\")[0])] = row[0].split(\":\")[1]\n",
    "        pass\n",
    "    pass\n",
    "\n",
    "i = 0\n",
    "for chip_name in tqdm.tqdm(all_images):\n",
    "    i+=1\n",
    "    if i > 5: break\n",
    "    chip_name = (chip_name.split(\"/\")[-1])\n",
    "    img_name = chip_name.split(\".\")[0]\n",
    "\n",
    "    coords = coords1[chips1==chip_name]\n",
    "    classes = classes1[chips1==chip_name].astype(np.int64)\n",
    "    \n",
    "    #We can find which classes are present in this image\n",
    "    #print([labels[i] for i in np.unique(classes)])\n",
    "\n",
    "    #We can chip the image into 500x500 chips\n",
    "    c_img, c_box, c_cls = wv.chip_image(img = arr, coords= coords, \n",
    "                                        classes=classes, shape=(600,600))\n",
    "    print(\"Num Chips: %d\" % c_img.shape[0])\n",
    "    for c_idx in (range(c_img.shape[0])):\n",
    "        # Save the chipped image\n",
    "        c_name = \"{:07}_{:02}\".format(int(img_name), c_idx)\n",
    "        img = Image.fromarray(c_img[c_idx])\n",
    "        ff_i = \"{}images/{}.jpg\".format(cdir,c_name)\n",
    "        img.save(ff_i)\n",
    "\n",
    "        # Save the chipped label\n",
    "        widths = c_box[c_idx][:,2]-c_box[c_idx][:,0]\n",
    "        x = c_box[c_idx][:,0]+(widths/2)\n",
    "\n",
    "        heights = c_box[c_idx][:,3]-c_box[c_idx][:,1]\n",
    "        y = c_box[c_idx][:,1]+(heights/2)\n",
    "\n",
    "        szx = c_img[c_idx].shape[0]\n",
    "        szy = c_img[c_idx].shape[1]\n",
    "        nwidths,nheights = widths/szx, heights/szy\n",
    "        nx,ny = x/szx, y/szy\n",
    "\n",
    "        nheights = np.round(nheights,6)\n",
    "        nwidths = np.round(nwidths,6)\n",
    "        nx,ny = np.round(nx,6),np.round(ny,6)\n",
    "\n",
    "        h_cls = c_cls[c_idx]\n",
    "        data_labels = np.vstack((h_cls,nx,ny,nwidths,nheights)).T\n",
    "        # Select only valid labels\n",
    "        y_valid = np.logical_and(nx-nwidths > 0.1,nx+nwidths < 0.9)\n",
    "        x_valid = np.logical_and(ny-nheights > 0.1,ny+nheights < 0.9)\n",
    "        valid = np.logical_and(x_valid,y_valid)\n",
    "        data_labels = data_labels[valid,:]\n",
    "        ff_l = \"{}labels/{}.txt\".format(cdir,c_name)\n",
    "        np.savetxt(ff_l, data_labels, fmt='%i %1.6f %1.6f %1.6f %1.6f')\n"
   ]
  },
  {
   "cell_type": "raw",
   "metadata": {},
   "source": [
    "python3 simrdwn.py --train_data_dir /data/zjc4/chipped_images/train/labels --train_data_dir "
   ]
  }
 ],
 "metadata": {
  "kernelspec": {
   "display_name": "Python 3",
   "language": "python",
   "name": "python3"
  },
  "language_info": {
   "codemirror_mode": {
    "name": "ipython",
    "version": 3
   },
   "file_extension": ".py",
   "mimetype": "text/x-python",
   "name": "python",
   "nbconvert_exporter": "python",
   "pygments_lexer": "ipython3",
   "version": "3.6.10"
  }
 },
 "nbformat": 4,
 "nbformat_minor": 4
}
