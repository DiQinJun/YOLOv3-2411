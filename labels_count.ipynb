{
 "cells": [
  {
   "cell_type": "code",
   "execution_count": 1,
   "metadata": {},
   "outputs": [],
   "source": [
    "import aug_util as aug\n",
    "import wv_util as wv\n",
    "import matplotlib.pyplot as plt\n",
    "import pandas as pd\n",
    "from PIL import Image\n",
    "import numpy as np\n",
    "import csv\n",
    "import tqdm\n",
    "%matplotlib inline\n"
   ]
  },
  {
   "cell_type": "code",
   "execution_count": 4,
   "metadata": {},
   "outputs": [
    {
     "name": "stderr",
     "output_type": "stream",
     "text": [
      "100%|██████████| 601937/601937 [00:03<00:00, 153159.13it/s]\n"
     ]
    }
   ],
   "source": [
    "#Loading our labels\n",
    "coords1, chips1, classes1 = wv.get_labels('/data/zjc4//xView_train.geojson')"
   ]
  },
  {
   "cell_type": "code",
   "execution_count": 5,
   "metadata": {},
   "outputs": [
    {
     "name": "stderr",
     "output_type": "stream",
     "text": [
      "847it [00:27, 30.30it/s]\n"
     ]
    }
   ],
   "source": [
    "# Grouped classes [1,2,3,4,5]\n",
    "grouped_classes = [[11,12],[13],[17,18,20,21],\\\n",
    "       [19,23,24,25,28,29,60,61,65,26],[41,42,50,40,44,45,47,49]]\n",
    "def transpose_class_counts(chips,classes):\n",
    "    chip_names = np.unique(chips) \n",
    "    ### Uncomment this to run over entire train dataset ###\n",
    "    # chip_names = np.unique(chips) \n",
    "    results = np.zeros((len(chip_names),5))\n",
    "    chip_strs = []\n",
    "    for c_idx, c in tqdm.tqdm(enumerate(chip_names)):\n",
    "        chip_strs.append(c)\n",
    "        classes_chip = classes[chips==c]\n",
    "        idx_filter = np.isin(classes_chip,grouped_classes[0])\n",
    "        # initialize to all false\n",
    "        for i,gc in (enumerate(grouped_classes)):\n",
    "            is_in_idxs = np.isin(classes_chip,gc)\n",
    "            classes_chip[is_in_idxs] = i\n",
    "            idx_filter = np.logical_or(idx_filter,is_in_idxs)\n",
    "        classes_chip = classes_chip[idx_filter]\n",
    "        labels, counts = np.unique(classes_chip,return_counts=True)\n",
    "        for label_idx,label in enumerate(labels):\n",
    "            results[int(c_idx),int(label)] = counts[label_idx]\n",
    "            pass\n",
    "    chip_strs_col = np.array(chip_strs).reshape(-1,1)\n",
    "    return (np.hstack((chip_strs_col,results)))\n",
    "\n",
    "# make the table where filename is rowwise, columns are class\n",
    "results = transpose_class_counts(chips1,classes1)"
   ]
  },
  {
   "cell_type": "code",
   "execution_count": 7,
   "metadata": {
    "scrolled": true
   },
   "outputs": [
    {
     "data": {
      "text/html": [
       "<div>\n",
       "<style scoped>\n",
       "    .dataframe tbody tr th:only-of-type {\n",
       "        vertical-align: middle;\n",
       "    }\n",
       "\n",
       "    .dataframe tbody tr th {\n",
       "        vertical-align: top;\n",
       "    }\n",
       "\n",
       "    .dataframe thead th {\n",
       "        text-align: right;\n",
       "    }\n",
       "</style>\n",
       "<table border=\"1\" class=\"dataframe\">\n",
       "  <thead>\n",
       "    <tr style=\"text-align: right;\">\n",
       "      <th></th>\n",
       "      <th>fname</th>\n",
       "      <th>Small Aircraft</th>\n",
       "      <th>Large Aircraft</th>\n",
       "      <th>Small Vehicle</th>\n",
       "      <th>Bus/Truck</th>\n",
       "      <th>Boat</th>\n",
       "    </tr>\n",
       "  </thead>\n",
       "  <tbody>\n",
       "    <tr>\n",
       "      <th>0</th>\n",
       "      <td>10.tif</td>\n",
       "      <td>0.0</td>\n",
       "      <td>0.0</td>\n",
       "      <td>2.0</td>\n",
       "      <td>1.0</td>\n",
       "      <td>0.0</td>\n",
       "    </tr>\n",
       "    <tr>\n",
       "      <th>1</th>\n",
       "      <td>100.tif</td>\n",
       "      <td>0.0</td>\n",
       "      <td>0.0</td>\n",
       "      <td>62.0</td>\n",
       "      <td>7.0</td>\n",
       "      <td>0.0</td>\n",
       "    </tr>\n",
       "    <tr>\n",
       "      <th>2</th>\n",
       "      <td>102.tif</td>\n",
       "      <td>0.0</td>\n",
       "      <td>0.0</td>\n",
       "      <td>346.0</td>\n",
       "      <td>24.0</td>\n",
       "      <td>0.0</td>\n",
       "    </tr>\n",
       "    <tr>\n",
       "      <th>3</th>\n",
       "      <td>1036.tif</td>\n",
       "      <td>0.0</td>\n",
       "      <td>0.0</td>\n",
       "      <td>31.0</td>\n",
       "      <td>36.0</td>\n",
       "      <td>69.0</td>\n",
       "    </tr>\n",
       "    <tr>\n",
       "      <th>4</th>\n",
       "      <td>1037.tif</td>\n",
       "      <td>0.0</td>\n",
       "      <td>0.0</td>\n",
       "      <td>276.0</td>\n",
       "      <td>146.0</td>\n",
       "      <td>0.0</td>\n",
       "    </tr>\n",
       "    <tr>\n",
       "      <th>...</th>\n",
       "      <td>...</td>\n",
       "      <td>...</td>\n",
       "      <td>...</td>\n",
       "      <td>...</td>\n",
       "      <td>...</td>\n",
       "      <td>...</td>\n",
       "    </tr>\n",
       "    <tr>\n",
       "      <th>842</th>\n",
       "      <td>97.tif</td>\n",
       "      <td>0.0</td>\n",
       "      <td>0.0</td>\n",
       "      <td>934.0</td>\n",
       "      <td>61.0</td>\n",
       "      <td>0.0</td>\n",
       "    </tr>\n",
       "    <tr>\n",
       "      <th>843</th>\n",
       "      <td>983.tif</td>\n",
       "      <td>1.0</td>\n",
       "      <td>2.0</td>\n",
       "      <td>0.0</td>\n",
       "      <td>1.0</td>\n",
       "      <td>0.0</td>\n",
       "    </tr>\n",
       "    <tr>\n",
       "      <th>844</th>\n",
       "      <td>986.tif</td>\n",
       "      <td>0.0</td>\n",
       "      <td>0.0</td>\n",
       "      <td>7.0</td>\n",
       "      <td>3.0</td>\n",
       "      <td>0.0</td>\n",
       "    </tr>\n",
       "    <tr>\n",
       "      <th>845</th>\n",
       "      <td>99.tif</td>\n",
       "      <td>0.0</td>\n",
       "      <td>0.0</td>\n",
       "      <td>851.0</td>\n",
       "      <td>81.0</td>\n",
       "      <td>0.0</td>\n",
       "    </tr>\n",
       "    <tr>\n",
       "      <th>846</th>\n",
       "      <td>996.tif</td>\n",
       "      <td>0.0</td>\n",
       "      <td>0.0</td>\n",
       "      <td>0.0</td>\n",
       "      <td>0.0</td>\n",
       "      <td>0.0</td>\n",
       "    </tr>\n",
       "  </tbody>\n",
       "</table>\n",
       "<p>847 rows × 6 columns</p>\n",
       "</div>"
      ],
      "text/plain": [
       "        fname Small Aircraft Large Aircraft Small Vehicle Bus/Truck  Boat\n",
       "0      10.tif            0.0            0.0           2.0       1.0   0.0\n",
       "1     100.tif            0.0            0.0          62.0       7.0   0.0\n",
       "2     102.tif            0.0            0.0         346.0      24.0   0.0\n",
       "3    1036.tif            0.0            0.0          31.0      36.0  69.0\n",
       "4    1037.tif            0.0            0.0         276.0     146.0   0.0\n",
       "..        ...            ...            ...           ...       ...   ...\n",
       "842    97.tif            0.0            0.0         934.0      61.0   0.0\n",
       "843   983.tif            1.0            2.0           0.0       1.0   0.0\n",
       "844   986.tif            0.0            0.0           7.0       3.0   0.0\n",
       "845    99.tif            0.0            0.0         851.0      81.0   0.0\n",
       "846   996.tif            0.0            0.0           0.0       0.0   0.0\n",
       "\n",
       "[847 rows x 6 columns]"
      ]
     },
     "execution_count": 7,
     "metadata": {},
     "output_type": "execute_result"
    }
   ],
   "source": [
    "df"
   ]
  },
  {
   "cell_type": "code",
   "execution_count": 6,
   "metadata": {},
   "outputs": [],
   "source": [
    "# the train test split code starts here"
   ]
  },
  {
   "cell_type": "code",
   "execution_count": 7,
   "metadata": {},
   "outputs": [],
   "source": [
    "no_tif_col = results[:, 1:]"
   ]
  },
  {
   "cell_type": "code",
   "execution_count": 8,
   "metadata": {},
   "outputs": [
    {
     "data": {
      "text/plain": [
       "array([['0.0', '0.0', '2.0', '1.0', '0.0'],\n",
       "       ['0.0', '0.0', '62.0', '7.0', '0.0'],\n",
       "       ['0.0', '0.0', '346.0', '24.0', '0.0'],\n",
       "       ...,\n",
       "       ['0.0', '0.0', '7.0', '3.0', '0.0'],\n",
       "       ['0.0', '0.0', '851.0', '81.0', '0.0'],\n",
       "       ['0.0', '0.0', '0.0', '0.0', '0.0']], dtype='<U32')"
      ]
     },
     "execution_count": 8,
     "metadata": {},
     "output_type": "execute_result"
    }
   ],
   "source": [
    "no_tif_col"
   ]
  },
  {
   "cell_type": "code",
   "execution_count": 10,
   "metadata": {},
   "outputs": [],
   "source": [
    "from sklearn.model_selection import train_test_split\n",
    "\n",
    "def indToTifName(data, inds):\n",
    "    res = []\n",
    "    for ind in inds:\n",
    "        res.append(data[ind][0])\n",
    "    return res\n",
    "\n",
    "def showDistribution(data, selected_indexes):\n",
    "    res = []\n",
    "    total = 0\n",
    "    class_num = len(data[0])\n",
    "    for i in range(class_num):\n",
    "        for index in selected_indexes:\n",
    "            total += float(data[index][i])\n",
    "    for i in range(class_num):\n",
    "        total_of_this_class = 0\n",
    "        for index in selected_indexes:\n",
    "            total_of_this_class += float(data[index][i])\n",
    "        res.append(float(total_of_this_class)/total)\n",
    "    return res\n",
    "\n",
    "def checkThreshold(distr1, distr2, thres):\n",
    "    if (len(distr1) != len(distr2)):\n",
    "        print(\"columns' numbers don't fit.\")\n",
    "        return -1\n",
    "    for i in range(len(distr1)):\n",
    "        diff = abs(distr1[i] - distr2[i])\n",
    "        if diff > thres:\n",
    "            return False\n",
    "    return True\n",
    "\n",
    "def findBalance(data, train_percent, thres):\n",
    "    tifs = len(data)\n",
    "    class_num = len(data[0])\n",
    "    for i in range(1000000):\n",
    "        tr_set, te_set = train_test_split(np.array(list(range(len(data)))), test_size=1-train_percent)\n",
    "        tr_d = showDistribution(data, tr_set)\n",
    "        te_d = showDistribution(data, te_set)\n",
    "        check = checkThreshold(tr_d, te_d, thres)\n",
    "        if (check == -1):\n",
    "            return -1\n",
    "        elif (check == True):\n",
    "            return tr_set, te_set\n",
    "    return [], []"
   ]
  },
  {
   "cell_type": "code",
   "execution_count": 11,
   "metadata": {},
   "outputs": [],
   "source": [
    "#input data (here \"no_tif_col\") has to be complete columns of classes of counts, no other columns like \"tif_names\"\n",
    "#set train test split percentage (0.8) and threshold here (0.02)\n",
    "train_ind, test_ind = findBalance(no_tif_col, 0.8, 0.02)"
   ]
  },
  {
   "cell_type": "code",
   "execution_count": 12,
   "metadata": {
    "scrolled": true
   },
   "outputs": [
    {
     "data": {
      "text/plain": [
       "array([392, 420, 678, 305, 761, 715, 608, 515, 778, 455, 226, 757, 447,\n",
       "       664, 456, 174, 334,  94,  86, 396, 699, 414,  42, 308, 160, 668,\n",
       "       816, 547, 369, 429,  62, 292, 342, 346, 835, 196, 670, 118, 467,\n",
       "       552, 362, 713, 609, 635, 829, 768, 485, 105, 646, 257, 313, 566,\n",
       "       751, 252,  89,   5, 260, 575, 568, 769,  29, 494, 322, 320, 755,\n",
       "       361,  96, 616, 285,  23, 137, 465, 517,  40, 130, 281, 564, 626,\n",
       "       679, 686, 302, 223, 215, 114, 676, 221, 694, 169, 837, 544, 359,\n",
       "       821, 773, 711, 181, 605, 551, 208,  53, 156,  68,   6, 653,  82,\n",
       "       451, 425, 610, 656, 338, 845, 613, 473, 407, 178, 377, 123, 692,\n",
       "       371, 620,  77,  37, 483, 530,  25, 171, 493, 841, 807, 225, 705,\n",
       "       634, 489, 418, 637, 432, 743, 640, 375, 124, 412, 211, 300, 182,\n",
       "       337, 712, 203, 509, 201, 180, 741, 280,   0, 312, 524, 444, 390,\n",
       "       660,  24,  90, 759, 310, 404, 594, 710, 683, 738, 698, 822, 601,\n",
       "       470, 657, 339,  59, 790, 380, 401, 632, 636, 164, 796, 370, 153,\n",
       "       290, 453, 795, 558, 143,  73, 689, 254,  52, 562, 244, 836, 731,\n",
       "       228, 357, 742, 388, 304, 472, 615, 830, 650, 460, 269, 789, 674,\n",
       "       585, 157, 166, 400, 237, 241, 413, 811, 381, 468, 763, 488, 734,\n",
       "       673, 287, 457, 177, 749, 843, 770, 232, 341, 340, 234, 706,  10,\n",
       "        69,   3, 606, 638, 804, 700,  32, 786, 217, 840, 278,  97, 659,\n",
       "       121, 754, 158, 627, 546,  31, 471, 165, 282, 184, 752, 682, 348,\n",
       "       298, 596, 717, 113, 128, 569,  26, 445, 597, 842,  28, 442, 504,\n",
       "       810, 534, 591, 212, 161, 518, 365, 384,  74, 823, 195,  55, 360,\n",
       "       194, 474, 570, 343, 294, 284, 831, 299, 803, 498, 349, 532, 695,\n",
       "        54, 666, 423, 737, 622, 408, 775, 297,  67, 714, 479, 607,  76,\n",
       "       753, 295,  33, 104, 273, 129, 703, 347, 206, 311, 293,   1, 326,\n",
       "       538, 389, 736, 787, 355, 545, 255, 434, 802, 120, 582, 702, 523,\n",
       "       535, 140, 618, 560, 825, 175, 555, 366, 797, 318, 277, 410, 614,\n",
       "       314, 762, 327, 272, 733, 240, 669, 167, 141, 629, 658, 630, 513,\n",
       "       197, 818, 115, 476, 740, 461, 426, 481, 522, 111, 398, 746, 256,\n",
       "         8, 771, 186,  45, 200, 567, 230, 207,  46, 126, 521, 417, 832,\n",
       "       364, 745, 767, 316, 368,  22, 151, 440,  19, 329, 213, 386, 258,\n",
       "       253, 681, 684, 138, 247, 405, 102, 218, 376,  38, 187, 592,  21,\n",
       "       422, 750, 655, 415,  35, 600, 548,  87, 777, 231, 784, 647, 214,\n",
       "       648, 189, 459, 267, 428, 336, 578, 198, 828, 805, 344, 549,  81,\n",
       "       516, 286, 172, 501, 595, 373, 475, 528, 351, 788, 159, 537, 431,\n",
       "       587, 510, 242, 387, 379, 202,  64, 353,  15, 623, 496, 723, 239,\n",
       "       402, 563, 382, 103, 142, 730, 506, 661, 612, 134, 205, 559, 631,\n",
       "       691,  44, 687, 598, 482, 709, 261, 765,  79,  48, 250, 760, 246,\n",
       "       383,  66, 663, 464, 675, 812, 719, 557, 697, 263, 680, 649, 500,\n",
       "        92, 209, 541, 110, 520, 452, 139, 542, 133, 783, 624, 539, 579,\n",
       "       838, 192, 147, 588, 106, 291, 427, 536,  60, 222, 463, 179, 577,\n",
       "       220, 672, 814, 122, 708, 766, 665, 227, 593,  16, 450, 397, 764,\n",
       "       303,  70, 574, 747, 727, 378, 785, 490, 798, 756, 409, 645, 323,\n",
       "       572, 170, 354, 556, 801, 275, 508, 204, 652, 677, 794, 792, 190,\n",
       "       191, 511, 685,  36,  88, 696, 833, 599, 725, 154, 505, 319, 844,\n",
       "       820, 693, 108, 739, 274, 806, 173, 642, 224, 162, 576, 526, 809,\n",
       "       330, 421, 394, 101, 367, 249, 332, 331, 512, 315,  11, 219, 774,\n",
       "       436, 437,  72,  17, 744,  98, 229, 265, 776, 268, 480, 183, 720,\n",
       "       571, 248, 704, 264, 826, 641, 155,  43,  39,  51, 533,  99, 116,\n",
       "       296, 276, 335,  34, 662, 543, 732, 707, 176, 604, 449, 808,  84,\n",
       "       817, 419, 603,  75, 527, 403, 109, 279, 813, 262,  13, 441, 358,\n",
       "       144,  20, 345, 701, 625,   9, 654, 514,  93, 399, 321, 324, 210,\n",
       "       149])"
      ]
     },
     "execution_count": 12,
     "metadata": {},
     "output_type": "execute_result"
    }
   ],
   "source": [
    "train_ind"
   ]
  },
  {
   "cell_type": "code",
   "execution_count": 13,
   "metadata": {},
   "outputs": [
    {
     "data": {
      "text/plain": [
       "array([628, 565, 800, 235, 448, 307, 117,  12,  85, 824, 132, 188, 619,\n",
       "        57, 469, 245, 446,  41, 185,  91, 529, 333, 439, 492, 406, 554,\n",
       "       667, 301, 135, 728, 150, 671, 289, 780,  47, 233, 266, 726, 131,\n",
       "        78, 288, 259, 721,  83, 748, 112, 127, 758, 283, 356, 581,   7,\n",
       "       352, 633, 478, 525, 100, 540, 391, 502, 611, 146, 724, 454, 328,\n",
       "       722,  80, 168, 435, 617, 839, 424, 621, 779, 466, 462, 393, 573,\n",
       "       271, 487, 799, 148, 372, 499,   2, 306, 602, 411, 152,  18, 561,\n",
       "       163, 416, 507, 589,   4, 846, 309, 430, 363, 385,  71,  56,  63,\n",
       "        49, 270, 374, 583, 491, 586,  58, 317, 782, 651, 238, 251, 718,\n",
       "       688, 793, 438, 395, 553, 580, 639, 199, 236, 350, 495, 827,  14,\n",
       "        65, 772, 590, 735, 531, 791, 550, 119, 458,  27, 325, 136, 781,\n",
       "       716, 519, 815, 145, 690, 643, 243, 216,  50, 503, 497, 443, 433,\n",
       "       819, 729,  95, 486,  61, 584, 125,  30, 484, 644, 107, 834, 477,\n",
       "       193])"
      ]
     },
     "execution_count": 13,
     "metadata": {},
     "output_type": "execute_result"
    }
   ],
   "source": [
    "test_ind"
   ]
  },
  {
   "cell_type": "code",
   "execution_count": 14,
   "metadata": {},
   "outputs": [
    {
     "data": {
      "text/plain": [
       "[0.0015955025833137438,\n",
       " 0.002815887004406388,\n",
       " 0.8517783101677028,\n",
       " 0.12484932753817453,\n",
       " 0.018960972706402516]"
      ]
     },
     "execution_count": 14,
     "metadata": {},
     "output_type": "execute_result"
    }
   ],
   "source": [
    "# distributions\n",
    "showDistribution(no_tif_col, train_ind)"
   ]
  },
  {
   "cell_type": "code",
   "execution_count": 15,
   "metadata": {},
   "outputs": [
    {
     "data": {
      "text/plain": [
       "[0.002123765453415291,\n",
       " 0.0026762897990192692,\n",
       " 0.8470543545824988,\n",
       " 0.1320015194419504,\n",
       " 0.016144070723116237]"
      ]
     },
     "execution_count": 15,
     "metadata": {},
     "output_type": "execute_result"
    }
   ],
   "source": [
    "showDistribution(no_tif_col, test_ind)"
   ]
  },
  {
   "cell_type": "code",
   "execution_count": 16,
   "metadata": {},
   "outputs": [],
   "source": [
    "#result tifs, need to use dataset with tif names as the input\n",
    "train_tifs = indToTifName(results, train_ind)\n",
    "test_tifs = indToTifName(results, test_ind)"
   ]
  },
  {
   "cell_type": "code",
   "execution_count": 24,
   "metadata": {},
   "outputs": [],
   "source": [
    "import pickle\n",
    "with open(\"train_tifs.pkl\",\"wb\") as f:\n",
    "    pickle.dump(train_tifs,f)\n",
    "    pass\n",
    "with open(\"test_tifs.pkl\",\"wb\") as f:\n",
    "    pickle.dump(test_tifs,f)\n",
    "    \n",
    "    "
   ]
  }
 ],
 "metadata": {
  "kernelspec": {
   "display_name": "Python 3",
   "language": "python",
   "name": "python3"
  },
  "language_info": {
   "codemirror_mode": {
    "name": "ipython",
    "version": 3
   },
   "file_extension": ".py",
   "mimetype": "text/x-python",
   "name": "python",
   "nbconvert_exporter": "python",
   "pygments_lexer": "ipython3",
   "version": "3.6.9"
  }
 },
 "nbformat": 4,
 "nbformat_minor": 4
}
