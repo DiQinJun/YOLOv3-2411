{
 "cells": [
  {
   "cell_type": "code",
   "execution_count": 11,
   "metadata": {},
   "outputs": [],
   "source": [
    "import aug_util as aug\n",
    "import wv_util as wv\n",
    "import matplotlib.pyplot as plt\n",
    "import pandas as pd\n",
    "from PIL import Image\n",
    "import numpy as np\n",
    "import csv\n",
    "import tqdm\n",
    "%matplotlib inline\n"
   ]
  },
  {
   "cell_type": "code",
   "execution_count": 12,
   "metadata": {},
   "outputs": [
    {
     "name": "stderr",
     "output_type": "stream",
     "text": [
      "100%|██████████| 601937/601937 [00:03<00:00, 151894.72it/s]\n"
     ]
    }
   ],
   "source": [
    "#Loading our labels\n",
    "coords1, chips1, classes1 = wv.get_labels('/data/zjc4/xView_train.geojson')"
   ]
  },
  {
   "cell_type": "code",
   "execution_count": 7,
   "metadata": {},
   "outputs": [
    {
     "data": {
      "text/plain": [
       "(847,)"
      ]
     },
     "execution_count": 7,
     "metadata": {},
     "output_type": "execute_result"
    }
   ],
   "source": [
    "np.unique(chips1).shape"
   ]
  },
  {
   "cell_type": "code",
   "execution_count": 8,
   "metadata": {},
   "outputs": [
    {
     "name": "stderr",
     "output_type": "stream",
     "text": [
      "847it [00:29, 28.92it/s]\n"
     ]
    }
   ],
   "source": [
    "# Grouped classes [1,2,3,4,5]\n",
    "grouped_classes = [[11,12],[13],[17,18,20,21],\\\n",
    "       [19,23,24,25,28,29,60,61,65,26],[41,42,50,40,44,45,47,49]]\n",
    "def transpose_class_counts(chips,classes):\n",
    "    chip_names = np.unique(chips) \n",
    "    ### Uncomment this to run over entire train dataset ###\n",
    "    # chip_names = np.unique(chips) \n",
    "    results = np.zeros((len(chip_names),5))\n",
    "    chip_strs = []\n",
    "    for c_idx, c in tqdm.tqdm(enumerate(chip_names)):\n",
    "        chip_strs.append(c)\n",
    "        classes_chip = classes[chips==c]\n",
    "        idx_filter = np.isin(classes_chip,grouped_classes[0])\n",
    "        # initialize to all false\n",
    "        for i,gc in (enumerate(grouped_classes)):\n",
    "            is_in_idxs = np.isin(classes_chip,gc)\n",
    "            classes_chip[is_in_idxs] = i\n",
    "            idx_filter = np.logical_or(idx_filter,is_in_idxs)\n",
    "        classes_chip = classes_chip[idx_filter]\n",
    "        labels, counts = np.unique(classes_chip,return_counts=True)\n",
    "        for label_idx,label in enumerate(labels):\n",
    "            results[int(c_idx),int(label)] = counts[label_idx]\n",
    "            pass\n",
    "    chip_strs_col = np.array(chip_strs).reshape(-1,1)\n",
    "    return (np.hstack((chip_strs_col,results)))\n",
    "\n",
    "# make the table where filename is rowwise, columns are class\n",
    "results = transpose_class_counts(chips1,classes1)"
   ]
  },
  {
   "cell_type": "code",
   "execution_count": 14,
   "metadata": {},
   "outputs": [],
   "source": [
    "columns = \\\n",
    "    ['fname',\n",
    "    'Small Aircraft',\n",
    "    'Large Aircraft',\n",
    "    'Small Vehicle',\n",
    "    'Bus/Truck',\n",
    "    'Boat']\n",
    "\n",
    "df = pd.DataFrame(results)\n",
    "df.columns = columns\n",
    "#df.head(10)"
   ]
  },
  {
   "cell_type": "code",
   "execution_count": 15,
   "metadata": {},
   "outputs": [],
   "source": [
    "df.to_csv('all_tifs.csv')"
   ]
  },
  {
   "cell_type": "code",
   "execution_count": 16,
   "metadata": {},
   "outputs": [
    {
     "data": {
      "text/html": [
       "<div>\n",
       "<style scoped>\n",
       "    .dataframe tbody tr th:only-of-type {\n",
       "        vertical-align: middle;\n",
       "    }\n",
       "\n",
       "    .dataframe tbody tr th {\n",
       "        vertical-align: top;\n",
       "    }\n",
       "\n",
       "    .dataframe thead th {\n",
       "        text-align: right;\n",
       "    }\n",
       "</style>\n",
       "<table border=\"1\" class=\"dataframe\">\n",
       "  <thead>\n",
       "    <tr style=\"text-align: right;\">\n",
       "      <th></th>\n",
       "      <th>fname</th>\n",
       "      <th>Small Aircraft</th>\n",
       "      <th>Large Aircraft</th>\n",
       "      <th>Small Vehicle</th>\n",
       "      <th>Bus/Truck</th>\n",
       "      <th>Boat</th>\n",
       "    </tr>\n",
       "  </thead>\n",
       "  <tbody>\n",
       "    <tr>\n",
       "      <th>0</th>\n",
       "      <td>10.tif</td>\n",
       "      <td>0.0</td>\n",
       "      <td>0.0</td>\n",
       "      <td>2.0</td>\n",
       "      <td>1.0</td>\n",
       "      <td>0.0</td>\n",
       "    </tr>\n",
       "    <tr>\n",
       "      <th>1</th>\n",
       "      <td>100.tif</td>\n",
       "      <td>0.0</td>\n",
       "      <td>0.0</td>\n",
       "      <td>62.0</td>\n",
       "      <td>7.0</td>\n",
       "      <td>0.0</td>\n",
       "    </tr>\n",
       "    <tr>\n",
       "      <th>2</th>\n",
       "      <td>102.tif</td>\n",
       "      <td>0.0</td>\n",
       "      <td>0.0</td>\n",
       "      <td>346.0</td>\n",
       "      <td>24.0</td>\n",
       "      <td>0.0</td>\n",
       "    </tr>\n",
       "    <tr>\n",
       "      <th>3</th>\n",
       "      <td>1036.tif</td>\n",
       "      <td>0.0</td>\n",
       "      <td>0.0</td>\n",
       "      <td>31.0</td>\n",
       "      <td>36.0</td>\n",
       "      <td>69.0</td>\n",
       "    </tr>\n",
       "    <tr>\n",
       "      <th>4</th>\n",
       "      <td>1037.tif</td>\n",
       "      <td>0.0</td>\n",
       "      <td>0.0</td>\n",
       "      <td>276.0</td>\n",
       "      <td>146.0</td>\n",
       "      <td>0.0</td>\n",
       "    </tr>\n",
       "    <tr>\n",
       "      <th>...</th>\n",
       "      <td>...</td>\n",
       "      <td>...</td>\n",
       "      <td>...</td>\n",
       "      <td>...</td>\n",
       "      <td>...</td>\n",
       "      <td>...</td>\n",
       "    </tr>\n",
       "    <tr>\n",
       "      <th>842</th>\n",
       "      <td>97.tif</td>\n",
       "      <td>0.0</td>\n",
       "      <td>0.0</td>\n",
       "      <td>934.0</td>\n",
       "      <td>61.0</td>\n",
       "      <td>0.0</td>\n",
       "    </tr>\n",
       "    <tr>\n",
       "      <th>843</th>\n",
       "      <td>983.tif</td>\n",
       "      <td>1.0</td>\n",
       "      <td>2.0</td>\n",
       "      <td>0.0</td>\n",
       "      <td>1.0</td>\n",
       "      <td>0.0</td>\n",
       "    </tr>\n",
       "    <tr>\n",
       "      <th>844</th>\n",
       "      <td>986.tif</td>\n",
       "      <td>0.0</td>\n",
       "      <td>0.0</td>\n",
       "      <td>7.0</td>\n",
       "      <td>3.0</td>\n",
       "      <td>0.0</td>\n",
       "    </tr>\n",
       "    <tr>\n",
       "      <th>845</th>\n",
       "      <td>99.tif</td>\n",
       "      <td>0.0</td>\n",
       "      <td>0.0</td>\n",
       "      <td>851.0</td>\n",
       "      <td>81.0</td>\n",
       "      <td>0.0</td>\n",
       "    </tr>\n",
       "    <tr>\n",
       "      <th>846</th>\n",
       "      <td>996.tif</td>\n",
       "      <td>0.0</td>\n",
       "      <td>0.0</td>\n",
       "      <td>0.0</td>\n",
       "      <td>0.0</td>\n",
       "      <td>0.0</td>\n",
       "    </tr>\n",
       "  </tbody>\n",
       "</table>\n",
       "<p>847 rows × 6 columns</p>\n",
       "</div>"
      ],
      "text/plain": [
       "        fname Small Aircraft Large Aircraft Small Vehicle Bus/Truck  Boat\n",
       "0      10.tif            0.0            0.0           2.0       1.0   0.0\n",
       "1     100.tif            0.0            0.0          62.0       7.0   0.0\n",
       "2     102.tif            0.0            0.0         346.0      24.0   0.0\n",
       "3    1036.tif            0.0            0.0          31.0      36.0  69.0\n",
       "4    1037.tif            0.0            0.0         276.0     146.0   0.0\n",
       "..        ...            ...            ...           ...       ...   ...\n",
       "842    97.tif            0.0            0.0         934.0      61.0   0.0\n",
       "843   983.tif            1.0            2.0           0.0       1.0   0.0\n",
       "844   986.tif            0.0            0.0           7.0       3.0   0.0\n",
       "845    99.tif            0.0            0.0         851.0      81.0   0.0\n",
       "846   996.tif            0.0            0.0           0.0       0.0   0.0\n",
       "\n",
       "[847 rows x 6 columns]"
      ]
     },
     "execution_count": 16,
     "metadata": {},
     "output_type": "execute_result"
    }
   ],
   "source": [
    "df"
   ]
  }
 ],
 "metadata": {
  "kernelspec": {
   "display_name": "Python 3",
   "language": "python",
   "name": "python3"
  },
  "language_info": {
   "codemirror_mode": {
    "name": "ipython",
    "version": 3
   },
   "file_extension": ".py",
   "mimetype": "text/x-python",
   "name": "python",
   "nbconvert_exporter": "python",
   "pygments_lexer": "ipython3",
   "version": "3.6.9"
  }
 },
 "nbformat": 4,
 "nbformat_minor": 4
}
