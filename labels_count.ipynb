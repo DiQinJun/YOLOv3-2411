{
 "cells": [
  {
   "cell_type": "code",
   "execution_count": 2,
   "metadata": {},
   "outputs": [],
   "source": [
    "import aug_util as aug\n",
    "import wv_util as wv\n",
    "import matplotlib.pyplot as plt\n",
    "import pandas as pd\n",
    "from PIL import Image\n",
    "import numpy as np\n",
    "import csv\n",
    "import tqdm\n",
    "%matplotlib inline\n"
   ]
  },
  {
   "cell_type": "code",
   "execution_count": 5,
   "metadata": {},
   "outputs": [
    {
     "name": "stderr",
     "output_type": "stream",
     "text": [
      "100%|██████████| 601937/601937 [00:02<00:00, 294968.26it/s]\n"
     ]
    }
   ],
   "source": [
    "#Loading our labels\n",
    "coords1, chips1, classes1 = wv.get_labels('data/xView_train.geojson')"
   ]
  },
  {
   "cell_type": "code",
   "execution_count": 6,
   "metadata": {},
   "outputs": [
    {
     "name": "stderr",
     "output_type": "stream",
     "text": [
      "17it [00:00, 39.93it/s]\n"
     ]
    }
   ],
   "source": [
    "# Grouped classes [1,2,3,4,5]\n",
    "grouped_classes = [[11,12],[13],[17,18,20,21],\\\n",
    "       [19,23,24,25,28,29,60,61,65,26],[41,42,50,40,44,45,47,49]]\n",
    "def transpose_class_counts(chips,classes):\n",
    "    chip_names = np.unique(chips[5000:20000]) \n",
    "    ### Uncomment this to run over entire train dataset ###\n",
    "    # chip_names = np.unique(chips) \n",
    "    results = np.zeros((len(chip_names),5))\n",
    "    chip_strs = []\n",
    "    for c_idx, c in tqdm.tqdm(enumerate(chip_names)):\n",
    "        chip_strs.append(c)\n",
    "        classes_chip = classes[chips==c]\n",
    "        idx_filter = np.isin(classes_chip,grouped_classes[0])\n",
    "        # initialize to all false\n",
    "        for i,gc in (enumerate(grouped_classes)):\n",
    "            is_in_idxs = np.isin(classes_chip,gc)\n",
    "            classes_chip[is_in_idxs] = i\n",
    "            idx_filter = np.logical_or(idx_filter,is_in_idxs)\n",
    "        classes_chip = classes_chip[idx_filter]\n",
    "        labels, counts = np.unique(classes_chip,return_counts=True)\n",
    "        for label_idx,label in enumerate(labels):\n",
    "            results[int(c_idx),int(label)] = counts[label_idx]\n",
    "            pass\n",
    "    chip_strs_col = np.array(chip_strs).reshape(-1,1)\n",
    "    return (np.hstack((chip_strs_col,results)))\n",
    "\n",
    "# make the table where filename is rowwise, columns are class\n",
    "results = transpose_class_counts(chips1,classes1)"
   ]
  },
  {
   "cell_type": "code",
   "execution_count": 7,
   "metadata": {
    "scrolled": true
   },
   "outputs": [
    {
     "data": {
      "text/html": [
       "<div>\n",
       "<style scoped>\n",
       "    .dataframe tbody tr th:only-of-type {\n",
       "        vertical-align: middle;\n",
       "    }\n",
       "\n",
       "    .dataframe tbody tr th {\n",
       "        vertical-align: top;\n",
       "    }\n",
       "\n",
       "    .dataframe thead th {\n",
       "        text-align: right;\n",
       "    }\n",
       "</style>\n",
       "<table border=\"1\" class=\"dataframe\">\n",
       "  <thead>\n",
       "    <tr style=\"text-align: right;\">\n",
       "      <th></th>\n",
       "      <th>fname</th>\n",
       "      <th>Small Aircraft</th>\n",
       "      <th>Large Aircraft</th>\n",
       "      <th>Small Vehicle</th>\n",
       "      <th>Bus/Truck</th>\n",
       "      <th>Boat</th>\n",
       "    </tr>\n",
       "  </thead>\n",
       "  <tbody>\n",
       "    <tr>\n",
       "      <th>0</th>\n",
       "      <td>2268.tif</td>\n",
       "      <td>0.0</td>\n",
       "      <td>0.0</td>\n",
       "      <td>0.0</td>\n",
       "      <td>0.0</td>\n",
       "      <td>1.0</td>\n",
       "    </tr>\n",
       "    <tr>\n",
       "      <th>1</th>\n",
       "      <td>2270.tif</td>\n",
       "      <td>0.0</td>\n",
       "      <td>0.0</td>\n",
       "      <td>0.0</td>\n",
       "      <td>0.0</td>\n",
       "      <td>1.0</td>\n",
       "    </tr>\n",
       "    <tr>\n",
       "      <th>2</th>\n",
       "      <td>2278.tif</td>\n",
       "      <td>0.0</td>\n",
       "      <td>0.0</td>\n",
       "      <td>0.0</td>\n",
       "      <td>0.0</td>\n",
       "      <td>20.0</td>\n",
       "    </tr>\n",
       "    <tr>\n",
       "      <th>3</th>\n",
       "      <td>2279.tif</td>\n",
       "      <td>0.0</td>\n",
       "      <td>0.0</td>\n",
       "      <td>23.0</td>\n",
       "      <td>10.0</td>\n",
       "      <td>264.0</td>\n",
       "    </tr>\n",
       "    <tr>\n",
       "      <th>4</th>\n",
       "      <td>2281.tif</td>\n",
       "      <td>0.0</td>\n",
       "      <td>0.0</td>\n",
       "      <td>3.0</td>\n",
       "      <td>12.0</td>\n",
       "      <td>1.0</td>\n",
       "    </tr>\n",
       "  </tbody>\n",
       "</table>\n",
       "</div>"
      ],
      "text/plain": [
       "      fname Small Aircraft Large Aircraft Small Vehicle Bus/Truck   Boat\n",
       "0  2268.tif            0.0            0.0           0.0       0.0    1.0\n",
       "1  2270.tif            0.0            0.0           0.0       0.0    1.0\n",
       "2  2278.tif            0.0            0.0           0.0       0.0   20.0\n",
       "3  2279.tif            0.0            0.0          23.0      10.0  264.0\n",
       "4  2281.tif            0.0            0.0           3.0      12.0    1.0"
      ]
     },
     "execution_count": 7,
     "metadata": {},
     "output_type": "execute_result"
    }
   ],
   "source": [
    "columns = \\\n",
    "    ['fname',\n",
    "    'Small Aircraft',\n",
    "    'Large Aircraft',\n",
    "    'Small Vehicle',\n",
    "    'Bus/Truck',\n",
    "    'Boat']\n",
    "\n",
    "df = pd.DataFrame(results).head()\n",
    "df.columns = columns\n",
    "df.head(10)"
   ]
  },
  {
   "cell_type": "code",
   "execution_count": 97,
   "metadata": {},
   "outputs": [],
   "source": [
    "# the train test split code starts here"
   ]
  },
  {
   "cell_type": "code",
   "execution_count": null,
   "metadata": {},
   "outputs": [],
   "source": [
    "no_tif_col = results[:, 1:]"
   ]
  },
  {
   "cell_type": "code",
   "execution_count": 44,
   "metadata": {},
   "outputs": [
    {
     "data": {
      "text/plain": [
       "array([['0.0', '0.0', '0.0', '0.0', '1.0'],\n",
       "       ['0.0', '0.0', '0.0', '0.0', '1.0'],\n",
       "       ['0.0', '0.0', '0.0', '0.0', '20.0'],\n",
       "       ['0.0', '0.0', '23.0', '10.0', '264.0'],\n",
       "       ['0.0', '0.0', '3.0', '12.0', '1.0'],\n",
       "       ['0.0', '0.0', '134.0', '43.0', '159.0'],\n",
       "       ['0.0', '0.0', '276.0', '179.0', '5.0'],\n",
       "       ['0.0', '0.0', '52.0', '27.0', '5.0'],\n",
       "       ['0.0', '0.0', '789.0', '50.0', '0.0'],\n",
       "       ['0.0', '0.0', '180.0', '45.0', '0.0'],\n",
       "       ['1.0', '1.0', '1295.0', '239.0', '0.0'],\n",
       "       ['11.0', '2.0', '938.0', '52.0', '0.0'],\n",
       "       ['0.0', '0.0', '1352.0', '239.0', '0.0'],\n",
       "       ['42.0', '5.0', '1103.0', '60.0', '0.0'],\n",
       "       ['0.0', '0.0', '833.0', '16.0', '0.0'],\n",
       "       ['0.0', '0.0', '1172.0', '157.0', '0.0'],\n",
       "       ['13.0', '14.0', '807.0', '45.0', '0.0']], dtype='<U32')"
      ]
     },
     "execution_count": 44,
     "metadata": {},
     "output_type": "execute_result"
    }
   ],
   "source": [
    "no_tif_col"
   ]
  },
  {
   "cell_type": "code",
   "execution_count": 59,
   "metadata": {},
   "outputs": [],
   "source": [
    "from sklearn.model_selection import train_test_split"
   ]
  },
  {
   "cell_type": "code",
   "execution_count": 85,
   "metadata": {},
   "outputs": [],
   "source": [
    "def indToTifName(data, inds):\n",
    "    res = []\n",
    "    for ind in inds:\n",
    "        res.append(data[ind][0])\n",
    "    return res"
   ]
  },
  {
   "cell_type": "code",
   "execution_count": 86,
   "metadata": {},
   "outputs": [],
   "source": [
    "def showDistribution(data, selected_indexes):\n",
    "    res = []\n",
    "    total = 0\n",
    "    class_num = len(data[0])\n",
    "    for i in range(class_num):\n",
    "        for index in selected_indexes:\n",
    "            total += float(data[index][i])\n",
    "    for i in range(class_num):\n",
    "        total_of_this_class = 0\n",
    "        for index in selected_indexes:\n",
    "            total_of_this_class += float(data[index][i])\n",
    "        res.append(float(total_of_this_class)/total)\n",
    "    return res"
   ]
  },
  {
   "cell_type": "code",
   "execution_count": 87,
   "metadata": {},
   "outputs": [],
   "source": [
    "def checkThreshold(distr1, distr2, thres):\n",
    "    if (len(distr1) != len(distr2)):\n",
    "        print(\"columns' numbers don't fit.\")\n",
    "        return -1\n",
    "    for i in range(len(distr1)):\n",
    "        diff = abs(distr1[i] - distr2[i])\n",
    "        if diff > thres:\n",
    "            return False\n",
    "    return True"
   ]
  },
  {
   "cell_type": "code",
   "execution_count": 88,
   "metadata": {},
   "outputs": [],
   "source": [
    "def findBalance(data, train_percent, thres):\n",
    "    tifs = len(data)\n",
    "    class_num = len(data[0])\n",
    "    for i in range(1000000):\n",
    "        tr_set, te_set = train_test_split(np.array(list(range(len(data)))), test_size=1-train_percent)\n",
    "        tr_d = showDistribution(data, tr_set)\n",
    "        te_d = showDistribution(data, te_set)\n",
    "        check = checkThreshold(tr_d, te_d, thres)\n",
    "        if (check == -1):\n",
    "            return -1\n",
    "        elif (check == True):\n",
    "            return tr_set, te_set\n",
    "    return [], []"
   ]
  },
  {
   "cell_type": "code",
   "execution_count": 89,
   "metadata": {},
   "outputs": [],
   "source": [
    "#input data (here \"no_tif_col\") has to be complete columns of classes of counts, no other columns like \"tif_names\"\n",
    "#set train test split percentage (0.8) and threshold here (0.02)\n",
    "train_ind, test_ind = findBalance(no_tif_col, 0.8, 0.02)"
   ]
  },
  {
   "cell_type": "code",
   "execution_count": 90,
   "metadata": {
    "scrolled": true
   },
   "outputs": [
    {
     "data": {
      "text/plain": [
       "array([ 0,  6,  9, 16, 15,  7, 14,  3, 13,  4,  8, 10,  2])"
      ]
     },
     "execution_count": 90,
     "metadata": {},
     "output_type": "execute_result"
    }
   ],
   "source": [
    "train_ind"
   ]
  },
  {
   "cell_type": "code",
   "execution_count": 91,
   "metadata": {},
   "outputs": [
    {
     "data": {
      "text/plain": [
       "array([ 1, 11, 12,  5])"
      ]
     },
     "execution_count": 91,
     "metadata": {},
     "output_type": "execute_result"
    }
   ],
   "source": [
    "test_ind"
   ]
  },
  {
   "cell_type": "code",
   "execution_count": 92,
   "metadata": {},
   "outputs": [
    {
     "data": {
      "text/plain": [
       "[0.00723047127178825,\n",
       " 0.0025823111684958036,\n",
       " 0.8435119431891543,\n",
       " 0.10845706907682376,\n",
       " 0.03821820529373789]"
      ]
     },
     "execution_count": 92,
     "metadata": {},
     "output_type": "execute_result"
    }
   ],
   "source": [
    "# distributions\n",
    "showDistribution(no_tif_col, train_ind)"
   ]
  },
  {
   "cell_type": "code",
   "execution_count": 93,
   "metadata": {},
   "outputs": [
    {
     "data": {
      "text/plain": [
       "[0.0037529853292391675,\n",
       " 0.000682360968952576,\n",
       " 0.827021494370522,\n",
       " 0.11395428181508017,\n",
       " 0.05458887751620607]"
      ]
     },
     "execution_count": 93,
     "metadata": {},
     "output_type": "execute_result"
    }
   ],
   "source": [
    "showDistribution(no_tif_col, test_ind)"
   ]
  },
  {
   "cell_type": "code",
   "execution_count": 94,
   "metadata": {},
   "outputs": [],
   "source": [
    "#result tifs, need to use dataset with tif names as the input\n",
    "train_tifs = indToTifName(results, train_ind)\n",
    "test_tifs = indToTifName(results, test_ind)"
   ]
  },
  {
   "cell_type": "code",
   "execution_count": 95,
   "metadata": {},
   "outputs": [
    {
     "data": {
      "text/plain": [
       "['2268.tif',\n",
       " '2293.tif',\n",
       " '2303.tif',\n",
       " '2399.tif',\n",
       " '2398.tif',\n",
       " '2294.tif',\n",
       " '2387.tif',\n",
       " '2279.tif',\n",
       " '2386.tif',\n",
       " '2281.tif',\n",
       " '2301.tif',\n",
       " '2370.tif',\n",
       " '2278.tif']"
      ]
     },
     "execution_count": 95,
     "metadata": {},
     "output_type": "execute_result"
    }
   ],
   "source": [
    "train_tifs"
   ]
  },
  {
   "cell_type": "code",
   "execution_count": 96,
   "metadata": {},
   "outputs": [
    {
     "data": {
      "text/plain": [
       "['2270.tif', '2371.tif', '2384.tif', '2292.tif']"
      ]
     },
     "execution_count": 96,
     "metadata": {},
     "output_type": "execute_result"
    }
   ],
   "source": [
    "test_tifs"
   ]
  },
  {
   "cell_type": "code",
   "execution_count": null,
   "metadata": {},
   "outputs": [],
   "source": []
  }
 ],
 "metadata": {
  "kernelspec": {
   "display_name": "Python 3",
   "language": "python",
   "name": "python3"
  },
  "language_info": {
   "codemirror_mode": {
    "name": "ipython",
    "version": 3
   },
   "file_extension": ".py",
   "mimetype": "text/x-python",
   "name": "python",
   "nbconvert_exporter": "python",
   "pygments_lexer": "ipython3",
   "version": "3.6.5"
  }
 },
 "nbformat": 4,
 "nbformat_minor": 4
}
